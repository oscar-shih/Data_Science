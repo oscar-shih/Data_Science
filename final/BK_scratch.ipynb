{
  "cells": [
    {
      "cell_type": "code",
      "execution_count": 2,
      "metadata": {
        "id": "ukZGkECl2yZJ"
      },
      "outputs": [],
      "source": [
        "%matplotlib inline\n",
        "import networkx as nx"
      ]
    },
    {
      "cell_type": "code",
      "execution_count": null,
      "metadata": {
        "id": "zAqHeCkR2yZK"
      },
      "outputs": [],
      "source": [
        "def readfeaturelist(filename):\n",
        "    \"\"\"\n",
        "    reads a featurelist file and returns a list of the feature names\n",
        "    \"\"\"\n",
        "    with open(filename) as f:\n",
        "        out = []        # list of feature names\n",
        "        for line in f:\n",
        "            out.append(line.strip())\n",
        "        return out"
      ]
    },
    {
      "cell_type": "code",
      "execution_count": null,
      "metadata": {
        "id": "VKYCosRC2yZL"
      },
      "outputs": [],
      "source": [
        "features = readfeaturelist('featureList.txt')"
      ]
    },
    {
      "cell_type": "code",
      "execution_count": null,
      "metadata": {
        "id": "yEYBHZJ32yZL",
        "outputId": "5c7bfcaf-342c-4899-df1c-a624a3253d37"
      },
      "outputs": [
        {
          "data": {},
          "execution_count": 4,
          "metadata": {},
          "output_type": "execute_result"
        }
      ],
      "source": [
        "features"
      ]
    },
    {
      "cell_type": "code",
      "execution_count": null,
      "metadata": {
        "id": "nrs0iR2r2yZM"
      },
      "outputs": [],
      "source": [
        "def readfeatures(featurefile):\n",
        "    \"\"\"\n",
        "    reads a featurefile consisting of userid feature;value feature;value\n",
        "    returns a list where index is user id, elements are dictionaries \n",
        "    of features as keys pointing to list of values maybe should be sets\n",
        "    \"\"\"\n",
        "    with open(featurefile) as f:\n",
        "        out = [] \n",
        "        for line in f:\n",
        "            tokens = line.split()\n",
        "            profile = {}  # empty profile for the user\n",
        "            for tok in tokens[1:]:\n",
        "                feature,val = tok.rsplit(';',1)\n",
        "                val = int(val)\n",
        "                if feature not in profile:\n",
        "                    profile[feature]=[val]\n",
        "                else:\n",
        "                    profile[feature].append(val)\n",
        "            out.append(profile)\n",
        "        for i in range(len(out)):\n",
        "            assert out[i]['id'][0] == i  # check that each line was read and placed in the correct place in the list\n",
        "        return out"
      ]
    },
    {
      "cell_type": "code",
      "execution_count": null,
      "metadata": {
        "id": "QyFTDWYZ2yZM"
      },
      "outputs": [],
      "source": [
        "profile = readfeatures('features.txt')"
      ]
    },
    {
      "cell_type": "code",
      "execution_count": null,
      "metadata": {
        "id": "K30aOLUQ2yZM",
        "outputId": "e6fdd38a-f3c1-4781-9a3f-eb3c5f6229d2"
      },
      "outputs": [
        {
          "data": {},
          "execution_count": 7,
          "metadata": {},
          "output_type": "execute_result"
        }
      ],
      "source": [
        "profile[3]"
      ]
    },
    {
      "cell_type": "code",
      "execution_count": null,
      "metadata": {
        "id": "yPYO9WdR2yZN"
      },
      "outputs": [],
      "source": [
        "def featurematch(profile1,profile2,feature):\n",
        "    \"\"\"\n",
        "    returns how well profile1 and profile2 match on a given of feature\n",
        "    currently returns the number of items they have in common for that given feature\n",
        "    \"\"\"\n",
        "    return len(set(profile1[feature]).intersection(set(profile2[feature]))) if feature in profile1 and feature in profile2 else 0"
      ]
    },
    {
      "cell_type": "code",
      "execution_count": null,
      "metadata": {
        "id": "I8Sv7rjY2yZN",
        "outputId": "1718ae5b-9cf8-4662-f33b-b43ade31f272"
      },
      "outputs": [
        {
          "data": {},
          "execution_count": 9,
          "metadata": {},
          "output_type": "execute_result"
        }
      ],
      "source": [
        "featurematch(profile[0],profile[1],'education;school;id')"
      ]
    },
    {
      "cell_type": "code",
      "execution_count": null,
      "metadata": {
        "id": "pzZDi3Wt2yZN"
      },
      "outputs": [],
      "source": [
        "def matchvector(profile1,profile2,featurelist):\n",
        "    \"\"\"\n",
        "    given two profiles and a featurelist, returns the similarity vector for the two\n",
        "    profiles where each entry is the number of entries they have in common for that feature,\n",
        "    i.e. returns 2 if they went to the same two school ids\n",
        "    \"\"\"\n",
        "    out = []\n",
        "    for feature in featurelist:\n",
        "        out.append(featurematch(profile1,profile2,feature))\n",
        "    return out"
      ]
    },
    {
      "cell_type": "code",
      "execution_count": null,
      "metadata": {
        "id": "BBMQdwXI2yZO",
        "outputId": "8d9f438f-8b35-4a78-e1a7-04504abbcb18"
      },
      "outputs": [
        {
          "data": {},
          "execution_count": 11,
          "metadata": {},
          "output_type": "execute_result"
        }
      ],
      "source": [
        "mvec = matchvector(profile[0],profile[1],features)\n",
        "mvec"
      ]
    },
    {
      "cell_type": "code",
      "execution_count": null,
      "metadata": {
        "id": "L25CRqHA2yZO",
        "outputId": "59c0cb90-c34d-4cab-aa90-2b9de9bdcf31"
      },
      "outputs": [
        {
          "data": {},
          "execution_count": 12,
          "metadata": {},
          "output_type": "execute_result"
        }
      ],
      "source": [
        "a=[1,2,4,5]\n",
        "b=[4,3,2,1]\n",
        "np.inner(a,b)"
      ]
    },
    {
      "cell_type": "code",
      "execution_count": null,
      "metadata": {
        "id": "VZxZ6SBe2yZO"
      },
      "outputs": [],
      "source": [
        "def weighteddotproduct(vector1,vector2,weight=None):\n",
        "    \"\"\"\n",
        "    returns the dot product of vector1 and vector2 with weight vector weight (normalized)\n",
        "    \"\"\"\n",
        "    if not weight:\n",
        "        weight = ones(len(vector1))\n",
        "    return np.inner(vector1,np.multiply(weight,vector2))/mean(weight)"
      ]
    },
    {
      "cell_type": "code",
      "execution_count": null,
      "metadata": {
        "id": "aaNTBVUK2yZP",
        "outputId": "9312ec44-19b0-4db1-aec2-fde1b6a17a6d"
      },
      "outputs": [
        {
          "data": {},
          "execution_count": 14,
          "metadata": {},
          "output_type": "execute_result"
        }
      ],
      "source": [
        "weighteddotproduct(a,a,b)"
      ]
    },
    {
      "cell_type": "code",
      "execution_count": null,
      "metadata": {
        "id": "LjKBq3xm2yZP",
        "outputId": "2607be77-41f1-44dd-c4f9-518859bed98b"
      },
      "outputs": [
        {
          "data": {},
          "execution_count": 15,
          "metadata": {},
          "output_type": "execute_result"
        }
      ],
      "source": [
        "np.inner(b,a)"
      ]
    },
    {
      "cell_type": "code",
      "execution_count": null,
      "metadata": {
        "id": "vIkb1HDz2yZP",
        "outputId": "022b1d93-5c5d-41a6-d457-51f84ec51979"
      },
      "outputs": [
        {
          "data": {},
          "execution_count": 16,
          "metadata": {},
          "output_type": "execute_result"
        }
      ],
      "source": [
        "sqrt(sum(b))"
      ]
    },
    {
      "cell_type": "code",
      "execution_count": null,
      "metadata": {
        "id": "AXgDCKKK2yZP",
        "outputId": "e6ac4f08-d1c0-4782-ed0d-35a6dfba3998"
      },
      "outputs": [
        {
          "data": {},
          "execution_count": 17,
          "metadata": {},
          "output_type": "execute_result"
        }
      ],
      "source": [
        "weighteddotproduct(b,b,a)"
      ]
    },
    {
      "cell_type": "code",
      "execution_count": null,
      "metadata": {
        "id": "vIMrodc_2yZP",
        "outputId": "6d9e7d1d-198c-451e-b566-da33997ded70"
      },
      "outputs": [
        {
          "data": {},
          "execution_count": 18,
          "metadata": {},
          "output_type": "execute_result"
        }
      ],
      "source": [
        "weighteddotproduct(b,b)"
      ]
    },
    {
      "cell_type": "code",
      "execution_count": null,
      "metadata": {
        "id": "orq6f3HC2yZQ",
        "outputId": "130ef598-ae52-49fd-a136-bcfc7e2741c7"
      },
      "outputs": [
        {
          "data": {},
          "execution_count": 19,
          "metadata": {},
          "output_type": "execute_result"
        }
      ],
      "source": [
        "np.inner(b,b)"
      ]
    },
    {
      "cell_type": "code",
      "execution_count": null,
      "metadata": {
        "id": "w5QAN-qw2yZQ",
        "outputId": "91bc2815-1422-491a-8332-7bd6a13780e5"
      },
      "outputs": [
        {
          "data": {},
          "execution_count": 20,
          "metadata": {},
          "output_type": "execute_result"
        }
      ],
      "source": [
        "weighteddotproduct(mvec,mvec)"
      ]
    },
    {
      "cell_type": "code",
      "execution_count": null,
      "metadata": {
        "id": "1q1Vpr_F2yZQ"
      },
      "outputs": [],
      "source": [
        "def userfeatures(profile):\n",
        "    \"\"\"  Returns a list of the features contained in the user profile \"\"\"\n",
        "    return [f for f in profile]"
      ]
    },
    {
      "cell_type": "code",
      "execution_count": null,
      "metadata": {
        "id": "OFQgqG752yZQ",
        "outputId": "3397de8e-1302-439e-fcac-174f89e3e6ec"
      },
      "outputs": [
        {
          "data": {},
          "execution_count": 22,
          "metadata": {},
          "output_type": "execute_result"
        }
      ],
      "source": [
        "userfeatures(profile[3])"
      ]
    },
    {
      "cell_type": "code",
      "execution_count": null,
      "metadata": {
        "id": "57rBDvml2yZR"
      },
      "outputs": [],
      "source": [
        "def usermatch(profile1,profile2):\n",
        "    \"\"\" returns the match vector for profile2 using only profile1 features as a reference \"\"\"\n",
        "    return matchvector(profile1,profile2,userfeatures(profile1))"
      ]
    },
    {
      "cell_type": "code",
      "execution_count": null,
      "metadata": {
        "id": "UaT_sY2K2yZR",
        "outputId": "c10c4ce3-a772-415d-9a3f-24656c722f1f"
      },
      "outputs": [
        {
          "data": {},
          "execution_count": 24,
          "metadata": {},
          "output_type": "execute_result"
        }
      ],
      "source": [
        "usermatch(profile[2],profile[3])"
      ]
    },
    {
      "cell_type": "code",
      "execution_count": null,
      "metadata": {
        "id": "H_Tpgikz2yZR"
      },
      "outputs": [],
      "source": [
        "def readcircle(userID):\n",
        "    \"\"\"\n",
        "    reads a circle for a given user consisting of circleDD: user1 user2 user3 ...\n",
        "    and returns a dictionary of the circle['number']=[user1,user2,user3]\n",
        "    \"\"\"\n",
        "    circlefile = './Training/'+str(userID)+'.circles'\n",
        "    with open(circlefile) as f:\n",
        "        circles = {} \n",
        "        for line in f:\n",
        "            tokens = line.split()\n",
        "            circleID = int(tokens[0].split('circle')[1].split(':')[0])\n",
        "            circles[circleID] =[]\n",
        "            for tok in tokens[1:]:\n",
        "                circles[circleID].append(int(tok))\n",
        "        return circles"
      ]
    },
    {
      "cell_type": "markdown",
      "metadata": {
        "id": "6YvzJVQp2yZR"
      },
      "source": [
        "The entire analysis for determining the characteristic profile of a circle should be redone and cleaned up"
      ]
    },
    {
      "cell_type": "code",
      "execution_count": null,
      "metadata": {
        "id": "R_PkDR_92yZS"
      },
      "outputs": [],
      "source": [
        "circles239 = readcircle(239)"
      ]
    },
    {
      "cell_type": "code",
      "execution_count": null,
      "metadata": {
        "id": "7OFJrzn02yZS",
        "outputId": "bca97745-2eea-4584-de00-55bab6e8f718"
      },
      "outputs": [
        {
          "data": {},
          "execution_count": 27,
          "metadata": {},
          "output_type": "execute_result"
        }
      ],
      "source": [
        "circles239[16]"
      ]
    },
    {
      "cell_type": "code",
      "execution_count": null,
      "metadata": {
        "id": "DfXFDq_P2yZT"
      },
      "outputs": [],
      "source": [
        "matchmatrix_u239_c16 = [matchvector(profile[239],profile[user],features) for user in circles239[16] ]"
      ]
    },
    {
      "cell_type": "code",
      "execution_count": null,
      "metadata": {
        "id": "Nob6LVoB2yZT",
        "outputId": "c5bd44f6-e174-4d1a-dbfa-59e77aea44d3"
      },
      "outputs": [
        {
          "data": {},
          "execution_count": 30,
          "metadata": {},
          "output_type": "execute_result"
        }
      ],
      "source": [
        "zeros(len(matchmatrix_u239_c16[0]))"
      ]
    },
    {
      "cell_type": "code",
      "execution_count": null,
      "metadata": {
        "id": "anbNmP-o2yZT"
      },
      "outputs": [],
      "source": [
        "def charprofile(profilemat):\n",
        "    out = zeros(len(profilemat[0]))\n",
        "    for row in profilemat:\n",
        "        for i in range(len(row)):\n",
        "            out[i] += row[i]\n",
        "    return out\n",
        "    "
      ]
    },
    {
      "cell_type": "code",
      "execution_count": null,
      "metadata": {
        "id": "96NayvGV2yZT",
        "outputId": "d664c8ac-34e5-45b8-ef30-4355dec0bf79"
      },
      "outputs": [
        {
          "data": {},
          "execution_count": 32,
          "metadata": {},
          "output_type": "execute_result"
        }
      ],
      "source": [
        "char_u239_c16 = charprofile(matchmatrix_u239_c16)\n",
        "char_u239_c16"
      ]
    },
    {
      "cell_type": "code",
      "execution_count": null,
      "metadata": {
        "id": "WVvGMaC02yZT",
        "outputId": "3f5a3c36-12ac-49ee-b3d5-d3635220bcd6"
      },
      "outputs": [
        {
          "name": "stdout",
          "output_type": "stream",
          "text": [
            "gender 30.0\n",
            "locale 43.0\n"
          ]
        }
      ],
      "source": [
        "print features[20],char_u239_c16[20]\n",
        "print features[27],char_u239_c16[27]"
      ]
    },
    {
      "cell_type": "code",
      "execution_count": null,
      "metadata": {
        "id": "nddR8wnC2yZT"
      },
      "outputs": [],
      "source": [
        "def display_char_profile(charprofile,featurelist):\n",
        "    for i in range(len(featurelist)):\n",
        "        if charprofile[i] !=0: print featurelist[i],charprofile[i]"
      ]
    },
    {
      "cell_type": "code",
      "execution_count": null,
      "metadata": {
        "id": "WZvClyoo2yZU",
        "outputId": "e397e2d8-6755-4745-c3f0-d78fc85fe62a"
      },
      "outputs": [
        {
          "name": "stdout",
          "output_type": "stream",
          "text": [
            "gender 30.0\n",
            "last_name 1.0\n",
            "locale 43.0\n"
          ]
        }
      ],
      "source": [
        "display_char_profile(char_u239_c16,features)"
      ]
    },
    {
      "cell_type": "code",
      "execution_count": null,
      "metadata": {
        "id": "LMTPNNLQ2yZU",
        "outputId": "2d2ad349-dc62-4925-91c1-3dc523382a33"
      },
      "outputs": [
        {
          "name": "stdout",
          "output_type": "stream",
          "text": [
            "User: 345\n",
            "Circle: 20\n",
            "education;type 37.0\n",
            "gender 18.0\n",
            "hometown;id 4.0\n",
            "hometown;name 4.0\n",
            "languages;id 3.0\n",
            "languages;name 4.0\n",
            "last_name 2.0\n",
            "locale 10.0\n",
            "location;id 1.0\n",
            "location;name 1.0\n",
            "\n",
            "Circle: 22\n",
            "education;school;id 70.0\n",
            "education;school;name 70.0\n",
            "education;type 143.0\n",
            "first_name 3.0\n",
            "gender 106.0"
          ]
        },
        {
          "name": "stdout",
          "output_type": "stream",
          "text": [
            "\n",
            "languages;id 145.0\n",
            "languages;name 161.0\n",
            "locale 109.0\n",
            "location;id 45.0\n",
            "location;name 45.0\n",
            "religion 1.0\n",
            "\n",
            "Circle: 24\n",
            "education;type 5.0\n",
            "gender 5.0\n",
            "locale 4.0\n",
            "\n",
            "Circle: 26\n",
            "education;school;id 1.0\n",
            "education;school;name 1.0\n",
            "education;type 21.0\n",
            "gender 17.0\n",
            "hometown;id 3.0\n",
            "hometown;name 3.0\n",
            "languages;id 11.0\n",
            "languages;name 11.0\n",
            "locale 22.0\n",
            "location;id 2.0\n",
            "location;name 2.0\n",
            "\n",
            "Circle: 27\n",
            "education;type 14.0\n",
            "gender 9.0\n",
            "languages;id 2.0\n",
            "languages;name 2.0\n",
            "locale 15.0\n",
            "location;id 2.0\n",
            "location;name 2.0\n",
            "\n",
            "Circle: 28\n",
            "education;school;id 2.0\n",
            "education;school;name 2.0\n",
            "education;type 10.0\n",
            "gender 5.0\n",
            "languages;id 3.0\n",
            "languages;name 4.0\n",
            "locale 6.0\n",
            "\n",
            "Circle: 29\n",
            "education;school;id"
          ]
        },
        {
          "name": "stdout",
          "output_type": "stream",
          "text": [
            " 2.0\n",
            "education;school;name 2.0\n",
            "education;type 40.0\n",
            "gender 29.0\n",
            "hometown;id 10.0\n",
            "hometown;name 10.0\n",
            "languages;id 11.0\n",
            "languages;name 12.0\n",
            "locale 45.0\n",
            "location;id 2.0\n",
            "location;name 2.0\n",
            "\n"
          ]
        }
      ],
      "source": [
        "ref_user = 345\n",
        "print 'User:', ref_user\n",
        "ref_profile = profile[ref_user]\n",
        "circles = readcircle(ref_user)\n",
        "ch_profile={}\n",
        "for circle in circles:\n",
        "    print 'Circle:', circle\n",
        "    matchmatrix = [matchvector(ref_profile,profile[user],features) for user in circles[circle] ]\n",
        "    ch_profile[circle]=charprofile(matchmatrix)\n",
        "    display_char_profile(ch_profile[circle],features)\n",
        "    print ''\n",
        "    "
      ]
    },
    {
      "cell_type": "code",
      "execution_count": null,
      "metadata": {
        "id": "5ti9aqGe2yZU",
        "outputId": "193a509f-d093-47dd-ecb1-383cebfd5f8c"
      },
      "outputs": [
        {
          "name": "stdout",
          "output_type": "stream",
          "text": [
            "30\n",
            "145\n",
            "6\n",
            "27\n",
            "16\n",
            "7\n",
            "48\n"
          ]
        }
      ],
      "source": [
        "for circle in circles:\n",
        "    print len(circles[circle])"
      ]
    },
    {
      "cell_type": "markdown",
      "metadata": {
        "id": "f1oB294M2yZU"
      },
      "source": [
        "The below analysis is of the size of circles in the entire circle training set."
      ]
    },
    {
      "cell_type": "code",
      "execution_count": null,
      "metadata": {
        "id": "FbvYiPP72yZU"
      },
      "outputs": [],
      "source": [
        "import os\n",
        "trainingfiles = os.listdir('./Training/')\n",
        "alltraining ={}\n",
        "for item in trainingfiles:\n",
        "    ego = int((item.split('.')[0]))\n",
        "    alltraining[ego]=readcircle(ego)"
      ]
    },
    {
      "cell_type": "code",
      "execution_count": null,
      "metadata": {
        "id": "8OfUFjfW2yZU"
      },
      "outputs": [],
      "source": [
        "circlesizes =[]\n",
        "for ego in alltraining:\n",
        "    for circle in alltraining[ego]:\n",
        "        circlesizes.append(len(alltraining[ego][circle]))"
      ]
    },
    {
      "cell_type": "code",
      "execution_count": null,
      "metadata": {
        "id": "zS4qe66f2yZV",
        "outputId": "0137cfe9-3a0e-4cc7-8080-b2d6111121be"
      },
      "outputs": [
        {
          "name": "stdout",
          "output_type": "stream",
          "text": [
            "Total Circles: 592 Largest circle: 335\n"
          ]
        }
      ],
      "source": [
        "print 'Total Circles:',len(circlesizes),'Largest circle:',max(circlesizes)"
      ]
    },
    {
      "cell_type": "code",
      "execution_count": null,
      "metadata": {
        "id": "D3m2murd2yZV",
        "outputId": "17b69b64-8328-492b-917a-84638de52bb2"
      },
      "outputs": [
        {
          "data": {},
          "metadata": {},
          "output_type": "display_data"
        }
      ],
      "source": [
        "n,bins,patches = plt.hist(circlesizes,50,normed=1)"
      ]
    },
    {
      "cell_type": "markdown",
      "metadata": {
        "id": "pll8SsCR2yZV"
      },
      "source": [
        "Need to install powerlaw from https://pypi.python.org/pypi/powerlaw and mpmath from http://mpmath.org/"
      ]
    },
    {
      "cell_type": "code",
      "execution_count": null,
      "metadata": {
        "id": "d5MGxC4R2yZV",
        "outputId": "d1391b84-e5d9-4d1b-c2ae-047c4ea74202"
      },
      "outputs": [
        {
          "name": "stdout",
          "output_type": "stream",
          "text": [
            "Power law parameters\n",
            "xmin: 1.0\n",
            "alpha: 1.34867031724\n",
            "sigma: 0.0143302617645\n",
            "Kolmorgorov-Smirnov Distance: 0.429454995946\n",
            "Comparison of different fit distributions\n",
            "lognormal "
          ]
        },
        {
          "name": "stdout",
          "output_type": "stream",
          "text": [
            "(-31.161598650616888, 3.5324953511545982e-213)\n",
            "exponential (-19.995760572020231, 5.9957783056119614e-89)\n",
            "truncated_power_law Assuming nested distributions\n",
            "(-52.163822814729087, 0.0)"
          ]
        },
        {
          "name": "stdout",
          "output_type": "stream",
          "text": [
            "\n",
            "stretched_exponential (-25.240484420591411, 1.4406321340792655e-140)\n",
            "power_law Assuming nested distributions\n",
            "(nan, 1.0)\n"
          ]
        },
        {
          "data": {},
          "metadata": {},
          "output_type": "display_data"
        }
      ],
      "source": [
        "import powerlaw\n",
        "\n",
        "fit = powerlaw.Fit(circlesizes,xmin=1.0)\n",
        "print 'Power law parameters'\n",
        "print 'xmin:', fit.xmin\n",
        "print 'alpha:', fit.power_law.alpha\n",
        "print 'sigma:', fit.power_law.sigma\n",
        "print 'Kolmorgorov-Smirnov Distance:', fit.power_law.D\n",
        "print 'Comparison of different fit distributions'\n",
        "for fitname in fit.supported_distributions:\n",
        "    if fit.supported_distributions[fitname]: print fitname, fit.distribution_compare('power_law', fitname ,normalized_ratio=True)\n",
        "fig = fit.plot_pdf(color='b', linewidth=2)\n",
        "fit.power_law.plot_pdf(color='b', linestyle='--', ax=fig)\n",
        "fit.truncated_power_law.plot_pdf(color='r', linestyle='--', ax=fig)\n",
        "show()"
      ]
    },
    {
      "cell_type": "code",
      "execution_count": null,
      "metadata": {
        "id": "I-LymBfS2yZV",
        "outputId": "a869feb6-9ec3-42c2-e727-1cefa7a29147"
      },
      "outputs": [
        {
          "name": "stdout",
          "output_type": "stream",
          "text": [
            "Calculating best minimal value for power law fit\n",
            "Power law parameters\n",
            "xmin: 59.0\n",
            "alpha: 3.11161185683\n",
            "sigma: 0.237574895157\n",
            "Kolmorgorov-Smirnov Distance: 0.0683951528023\n",
            "Comparison of different fit distributions\n",
            "lognormal "
          ]
        },
        {
          "name": "stdout",
          "output_type": "stream",
          "text": [
            "(-0.95854230434610788, 0.33778936996245745)\n",
            "exponential (0.16468001936175994, 0.86919584448399489)\n",
            "truncated_power_law Assuming nested distributions\n",
            "(-1.1621434875610928, 0.10156380981369018)"
          ]
        },
        {
          "name": "stdout",
          "output_type": "stream",
          "text": [
            "\n",
            "stretched_exponential (-1.0051563440518123, 0.31482157271181099)\n",
            "power_law Assuming nested distributions\n",
            "(nan, 1.0)\n"
          ]
        },
        {
          "data": {},
          "metadata": {},
          "output_type": "display_data"
        }
      ],
      "source": [
        "fit = powerlaw.Fit(circlesizes)\n",
        "print 'Power law parameters'\n",
        "print 'xmin:', fit.xmin\n",
        "print 'alpha:', fit.power_law.alpha\n",
        "print 'sigma:', fit.power_law.sigma\n",
        "print 'Kolmorgorov-Smirnov Distance:', fit.power_law.D\n",
        "print 'Comparison of different fit distributions'\n",
        "for fitname in fit.supported_distributions:\n",
        "    if fit.supported_distributions[fitname]: print fitname, fit.distribution_compare('power_law', fitname ,normalized_ratio=True)\n",
        "fig = fit.plot_pdf(color='b', linewidth=2)\n",
        "fit.power_law.plot_pdf(color='b', linestyle='--', ax=fig)\n",
        "fit.truncated_power_law.plot_pdf(color='r', linestyle='--', ax=fig)\n",
        "show()"
      ]
    },
    {
      "cell_type": "markdown",
      "metadata": {
        "id": "nbHBDwRm2yZV"
      },
      "source": [
        "#ProbCircleSize(N) ~= (N)<sup>-1.35 to -3.11</sup>"
      ]
    },
    {
      "cell_type": "code",
      "execution_count": null,
      "metadata": {
        "id": "z0tFbj2k2yZW"
      },
      "outputs": [],
      "source": [
        "def read_nodeadjlist(filename):\n",
        "  G = nx.Graph()\n",
        "  for line in open(filename):\n",
        "    e1, es = line.split(':')\n",
        "    # Add a node for the user.\n",
        "    G.add_node(int(e1))\n",
        "    es = es.split()\n",
        "    for e in es:\n",
        "      if e == e1: continue\n",
        "      G.add_edge(int(e1),int(e))\n",
        "  return G\n",
        "\n",
        "def drawGraph(G):\n",
        "    pos = nx.spring_layout(G)\n",
        "    nx.draw(G, pos)"
      ]
    },
    {
      "cell_type": "code",
      "execution_count": null,
      "metadata": {
        "id": "J2Hz9tTF2yZW"
      },
      "outputs": [],
      "source": [
        "import networkx as nx"
      ]
    },
    {
      "cell_type": "code",
      "execution_count": null,
      "metadata": {
        "id": "lXTGxm492yZW",
        "outputId": "d0082f9f-ecd0-4a66-d2d1-e57d0c373173"
      },
      "outputs": [
        {
          "name": "stdout",
          "output_type": "stream",
          "text": [
            "User: 239 \n",
            "Circle #'s: [16, 17, 18, 19]\n",
            "User:"
          ]
        },
        {
          "name": "stdout",
          "output_type": "stream",
          "text": [
            " 239 Circle: 16 Size: 46\n",
            "Members: [335, 253, 325, 320, 283, 258, 284, 318, 330, 241, 276, 312, 340, 301, 334, 291, 295, 242, 337, 338, 273, 277, 293, 251, 279, 285, 267, 243, 240, 298, 302, 286, 305, 282, 294, 256, 313, 263, 274, 339, 309, 336, 310, 264, 266, 269]\n",
            "User:"
          ]
        },
        {
          "name": "stdout",
          "output_type": "stream",
          "text": [
            " 239 Circle: 17 Size: 27\n",
            "Members: [306, 281, 311, 247, 342, 315, 297, 303, 304, 343, 333, 296, 250, 255, 331, 248, 340, 265, 322, 289, 344, 287, 326, 249, 324, 307, 290]\n",
            "User:"
          ]
        },
        {
          "name": "stdout",
          "output_type": "stream",
          "text": [
            " 239 Circle: 18 Size: 19\n",
            "Members: [300, 252, 332, 328, 268, 272, 323, 288, 257, 292, 245, 319, 275, 341, 282, 321, 339, 244, 316]\n",
            "User:"
          ]
        },
        {
          "name": "stdout",
          "output_type": "stream",
          "text": [
            " 239 Circle: 19 Size: 13\n",
            "Members: [280, 308, 254, 246, 270, 314, 299, 329, 261, 271, 327, 259, 317]\n"
          ]
        },
        {
          "data": {},
          "metadata": {},
          "output_type": "display_data"
        }
      ],
      "source": [
        "ref_user=239\n",
        "ref_circle = alltraining[ref_user]\n",
        "ref_circle_nums = [c for c in ref_circle]\n",
        "# ref_circle_nums = ref_circle.keys()\n",
        "\n",
        "print 'User:',ref_user,'\\nCircle #\\'s:', ref_circle_nums\n",
        "G = read_nodeadjlist('./egonets/'+str(ref_user)+'.egonet')\n",
        "pos = nx.spring_layout(G)\n",
        "figure(figsize(15, 15))\n",
        "for (n, c) in enumerate(ref_circle_nums):\n",
        "    subplot(2,2,n+1)\n",
        "    print 'User:',ref_user,'Circle:',c,'Size:',len(ref_circle[c])\n",
        "    print 'Members:',ref_circle[c]\n",
        "    nx.draw(G,pos,node_color='r')  # draw the background graph as red\n",
        "    nx.draw(G.subgraph(ref_circle[c]),pos,node_color='b')  # draw each subgraph as blue\n",
        "    #show()  # plot each as a separate plot\n"
      ]
    },
    {
      "cell_type": "code",
      "execution_count": null,
      "metadata": {
        "id": "gUQJOULr2yZW",
        "outputId": "ccab2c00-14f3-4602-d355-694c2b8248f8"
      },
      "outputs": [
        {
          "data": {},
          "execution_count": 30,
          "metadata": {},
          "output_type": "execute_result"
        },
        {
          "data": {},
          "metadata": {},
          "output_type": "display_data"
        }
      ],
      "source": [
        "clust = nx.clustering(G)\n",
        "figure(figsize(8,3))\n",
        "hist(clust.values(), bins=20)"
      ]
    },
    {
      "cell_type": "code",
      "execution_count": null,
      "metadata": {
        "id": "PwVsKkeS2yZW",
        "outputId": "02197e0b-cfba-4728-c167-0a04da093a19"
      },
      "outputs": [
        {
          "data": {},
          "metadata": {},
          "output_type": "display_data"
        }
      ],
      "source": [
        "friendly_users = [user_id for user_id, coeff in clust.items() if coeff == 1]\n",
        "figure(figsize(5,5))\n",
        "nx.draw(G,pos,node_color='r')  # draw the background graph as red\n",
        "nx.draw(G.subgraph(friendly_users),pos,node_color='b')  # draw each subgraph as blue"
      ]
    },
    {
      "cell_type": "code",
      "execution_count": null,
      "metadata": {
        "id": "Xjloo0vN2yZX",
        "outputId": "e7b1c2a4-43b2-4e4e-bfc2-7791de3178c6"
      },
      "outputs": [
        {
          "name": "stdout",
          "output_type": "stream",
          "text": [
            "User: 345\n",
            "Circle #'s: [20, 22, 24, 26, 27, 28, 29]\n",
            "Circle sizes: [30, 145, 6, 27, 16, 7, 48]\n"
          ]
        },
        {
          "data": {},
          "metadata": {},
          "output_type": "display_data"
        }
      ],
      "source": [
        "ref_user=345\n",
        "ref_circle = alltraining[ref_user]\n",
        "ref_circle_nums = [c for c in ref_circle]\n",
        "\n",
        "print 'User:',ref_user\n",
        "print 'Circle #\\'s:', ref_circle_nums\n",
        "print 'Circle sizes:', [len(ref_circle[c]) for c in ref_circle]\n",
        "G = read_nodeadjlist('./egonets/'+str(ref_user)+'.egonet')\n",
        "pos=nx.spring_layout(G) # positions for all nodes\n",
        "\n",
        "ncolormap = {}\n",
        "for c in ref_circle:\n",
        "    ncolormap[c] = (random.random(),random.random(),random.random())\n",
        "    # nodes\n",
        "    nx.draw_networkx_nodes(G,pos,\n",
        "                       nodelist=ref_circle[c],\n",
        "                       node_color=ncolormap[c],\n",
        "                       node_size=50,\n",
        "                   alpha=0.8)\n",
        "#edges\n",
        "nx.draw_networkx_edges(G,pos,width=1.0,alpha=0.5)\n",
        "show()"
      ]
    },
    {
      "cell_type": "code",
      "execution_count": null,
      "metadata": {
        "id": "QtoN7VGT2yZX",
        "outputId": "7d2c3e7e-609e-409f-b26d-d54e4da66a81"
      },
      "outputs": [
        {
          "data": {},
          "execution_count": 53,
          "metadata": {},
          "output_type": "execute_result"
        }
      ],
      "source": [
        "G.nodes()"
      ]
    },
    {
      "cell_type": "code",
      "execution_count": null,
      "metadata": {
        "id": "fUkelf-92yZX",
        "outputId": "101d3a17-1bd3-4a9c-d9a2-b6c5c7b8d6cf"
      },
      "outputs": [
        {
          "name": "stdout",
          "output_type": "stream",
          "text": [
            "Circle 20 has nodes [] not in G\n",
            "Circle 22 has nodes [] not in G\n",
            "Circle 24 has nodes [] not in G\n",
            "Circle 26 has nodes [] not in G\n",
            "Circle 27 has nodes [] not in G\n",
            "Circle 28 has nodes [] not in G\n",
            "Circle 29 has nodes [] not in G\n"
          ]
        }
      ],
      "source": [
        "# check for nodes in a circle but not in G, determined bug in reading node adjacency list\n",
        "for c in ref_circle:\n",
        "    print 'Circle', c, 'has nodes', [n for n in ref_circle[c] if n not in set(G.nodes())], 'not in G'"
      ]
    },
    {
      "cell_type": "code",
      "execution_count": null,
      "metadata": {
        "id": "vhN6oyQm2yZX",
        "outputId": "b60b6016-5fbf-429e-e52c-aa2e098ff1be"
      },
      "outputs": [
        {
          "name": "stdout",
          "output_type": "stream",
          "text": [
            "User: 345\n",
            "Circle: 20\n",
            "education;type 37.0\n",
            "gender 18.0\n",
            "hometown;id 4.0\n",
            "hometown;name 4.0\n",
            "languages;id 3.0\n",
            "languages;name 4.0\n",
            "last_name 2.0\n",
            "locale 10.0\n",
            "location;id 1.0\n",
            "location;name 1.0\n",
            "\n",
            "Circle: 22\n",
            "education;school;id 70.0\n",
            "education;school;name 70.0\n",
            "education;type 143.0\n",
            "first_name 3.0\n",
            "gender 106.0\n",
            "languages;id 145.0\n",
            "languages;name "
          ]
        },
        {
          "name": "stdout",
          "output_type": "stream",
          "text": [
            "161.0\n",
            "locale 109.0\n",
            "location;id 45.0\n",
            "location;name 45.0\n",
            "religion 1.0\n",
            "\n",
            "Circle: 24\n",
            "education;type 5.0\n",
            "gender 5.0\n",
            "locale 4.0\n",
            "\n",
            "Circle: 26\n",
            "education;school;id 1.0\n",
            "education;school;name 1.0\n",
            "education;type 21.0\n",
            "gender 17.0\n",
            "hometown;id 3.0\n",
            "hometown;name 3.0\n",
            "languages;id 11.0\n",
            "languages;name 11.0\n",
            "locale 22.0\n",
            "location;id 2.0\n",
            "location;name 2.0\n",
            "\n",
            "Circle: 27\n",
            "education;type 14.0\n",
            "gender 9.0\n",
            "languages;id 2.0\n",
            "languages;name 2.0\n",
            "locale 15.0\n",
            "location;id 2.0\n",
            "location;name 2.0\n",
            "\n",
            "Circle: 28\n",
            "education;school;id 2.0\n",
            "education;school;name 2.0\n",
            "education;type 10.0\n",
            "gender 5.0\n",
            "languages;id 3.0\n",
            "languages;name 4.0\n",
            "locale 6.0\n",
            "\n",
            "Circle: 29\n",
            "education;school;id 2.0\n",
            "education;school;name 2.0\n",
            "education;type 40.0\n",
            "gender 29.0\n",
            "hometown;id 10.0\n",
            "hometown;name 10.0\n",
            "languages;id 11.0\n",
            "languages;name 12.0\n",
            "locale 45.0\n",
            "location;id 2.0\n",
            "location;name 2.0\n",
            "\n"
          ]
        }
      ],
      "source": [
        "ref_user = 345\n",
        "print 'User:', ref_user\n",
        "ref_profile = profile[ref_user]\n",
        "circles = readcircle(ref_user)\n",
        "ch_profile={}\n",
        "for circle in circles:\n",
        "    print 'Circle:', circle\n",
        "    matchmatrix = [matchvector(ref_profile,profile[user],features) for user in circles[circle] ]\n",
        "    ch_profile[circle]=charprofile(matchmatrix)\n",
        "    display_char_profile(ch_profile[circle],features)\n",
        "    print ''"
      ]
    },
    {
      "cell_type": "code",
      "execution_count": null,
      "metadata": {
        "id": "aQy1s4YD2yZX"
      },
      "outputs": [],
      "source": [
        "ref_profile"
      ]
    },
    {
      "cell_type": "code",
      "execution_count": null,
      "metadata": {
        "id": "e2rJz1fp2yZX"
      },
      "outputs": [],
      "source": [
        "c = 29 # the circle to construct a common profile, really need to clean up str/int inconsistency, all should be int\n",
        "char_profile = {}\n",
        "Ncircle = len(circles[c])  # the size of the circle\n",
        "for key in ref_profile:\n",
        "    for val in ref_profile[key]:\n",
        "        count = 0\n",
        "        for user in circles[c]:\n",
        "          if key in profile[user] and val in profile[user][key]:\n",
        "                count = count + 1\n",
        "        count = count*1.0/Ncircle  # normalize by the size of the circle to determine percentage of profiles with common value\n",
        "        if key in char_profile:\n",
        "            char_profile[key].append( (val,count) )  # store the val and percentage matched to ego as tuples\n",
        "        else:\n",
        "            char_profile[key]=[(val,count)]\n",
        "char_profile\n",
        "        "
      ]
    },
    {
      "cell_type": "code",
      "execution_count": null,
      "metadata": {
        "id": "PT2XBY3f2yZY",
        "outputId": "210b8b93-38aa-407a-a1a2-b3ad31d42bd9"
      },
      "outputs": [
        {
          "data": {},
          "execution_count": 57,
          "metadata": {},
          "output_type": "execute_result"
        }
      ],
      "source": [
        "1 in [2,3,4,1]"
      ]
    },
    {
      "cell_type": "code",
      "execution_count": null,
      "metadata": {
        "id": "b4NyfmVl2yZY",
        "outputId": "868d8069-d9af-4ee9-ad3f-9c002aad0247"
      },
      "outputs": [
        {
          "data": {},
          "execution_count": 73,
          "metadata": {},
          "output_type": "execute_result"
        }
      ],
      "source": [
        "usersincircles = set.union(*[set(ref_circle[c]) for c in ref_circle])\n",
        "H = nx.Graph()\n",
        "H.add_nodes_from(G)\n",
        "H.add_edges_from(G.edges())\n",
        "H.remove_nodes_from(usersincircles)\n",
        "H.nodes()"
      ]
    },
    {
      "cell_type": "code",
      "execution_count": null,
      "metadata": {
        "id": "w2pZjqDQ2yZY",
        "outputId": "358e9279-623a-4d89-8078-8093fdd69ab7"
      },
      "outputs": [
        {
          "name": "stdout",
          "output_type": "stream",
          "text": [
            "Users not in a circle: [260, 262, 278]\n"
          ]
        }
      ],
      "source": [
        "H = nx.Graph()\n",
        "H.add_nodes_from(G)\n",
        "for c in ref_circle:\n",
        "    H.remove_nodes_from(ref_circle[c])\n",
        "print 'Users not in a circle:',H.nodes()"
      ]
    },
    {
      "cell_type": "code",
      "execution_count": null,
      "metadata": {
        "id": "xzKh86w22yZY"
      },
      "outputs": [],
      "source": []
    }
  ],
  "metadata": {
    "colab": {
      "provenance": []
    },
    "kernelspec": {
      "display_name": "Python 3.8.0 ('datasci')",
      "language": "python",
      "name": "python3"
    },
    "language_info": {
      "codemirror_mode": {
        "name": "ipython",
        "version": 3
      },
      "file_extension": ".py",
      "mimetype": "text/x-python",
      "name": "python",
      "nbconvert_exporter": "python",
      "pygments_lexer": "ipython3",
      "version": "3.8.0"
    },
    "vscode": {
      "interpreter": {
        "hash": "a307793abed84ea67a8da2ffbfc7a93d14d5178df256b406f005b73d648421bd"
      }
    }
  },
  "nbformat": 4,
  "nbformat_minor": 0
}
